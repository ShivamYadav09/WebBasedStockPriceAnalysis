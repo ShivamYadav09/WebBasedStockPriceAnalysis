{
 "cells": [
  {
   "cell_type": "code",
   "execution_count": 3,
   "metadata": {},
   "outputs": [],
   "source": [
    "from pandas_datareader import data\n",
    "import datetime\n",
    "from bokeh.plotting import figure, show, output_file\n",
    "#from bokeh.embed import components\n",
    "#from bokeh.resources import CDN\n",
    "#from pandas.util.testing import assert_frame_equal\n",
    "\n",
    "company_name=\"Apple\"\n",
    "name=\"AAPL\"\n",
    "start=datetime.datetime(2020,1,1)\n",
    "end = datetime.datetime(2020,4,6)\n",
    "\n",
    "#DateReader(\"Company_stock_symbol\", data_source, start_date, end_date)\n",
    "df = data.DataReader(name,data_source=\"yahoo\",start=start,end=end) \n",
    "df\n",
    "\n",
    "def status(c, o):\n",
    "    if c > o:\n",
    "        value=\"increase\"\n",
    "    elif c < o:\n",
    "        value=\"decrease\"\n",
    "    else:\n",
    "        value=\"equal\"\n",
    "    return value\n",
    "    \n",
    "df[\"status\"] = [status(c,o) for c,o in zip(df.Close, df.Open)]\n",
    "df[\"middle\"] = (df.Open+df.Close)/2\n",
    "df[\"height\"] = abs(df.Close - df.Open)\n",
    "\n",
    "p = figure(x_axis_type='datetime', width=1500, height=500, sizing_mode=\"scale_width\")\n",
    "p.title.text = company_name+\" Stock Trend\"\n",
    "#p.title.align=\"center\"\n",
    "\n",
    "hours_12 = 12*60*60*1000\n",
    "\n",
    "p.grid.grid_line_alpha=0.9\n",
    "\n",
    "#break lines after ',' (comma) to avoid errors\n",
    "p.rect(df.index[df.status==\"increase\"], df.middle[df.status==\"increase\"], hours_12,\n",
    "       df.height[df.status==\"increase\"], fill_color=\"green\", line_color=\"black\")\n",
    "p.rect(df.index[df.status==\"decrease\"], df.middle[df.status==\"decrease\"], hours_12,\n",
    "       df.height[df.status==\"decrease\"], fill_color=\"red\", line_color=\"black\")\n",
    "\n",
    "#p.segment(df.index, df.High, df.index, df.Low, color=\"Black\")\n",
    "\n",
    "output_file(\"cs.html\")\n",
    "show(p)\n"
   ]
  }
 ],
 "metadata": {
  "kernelspec": {
   "display_name": "Python 3",
   "language": "python",
   "name": "python3"
  },
  "language_info": {
   "codemirror_mode": {
    "name": "ipython",
    "version": 3
   },
   "file_extension": ".py",
   "mimetype": "text/x-python",
   "name": "python",
   "nbconvert_exporter": "python",
   "pygments_lexer": "ipython3",
   "version": "3.7.3"
  }
 },
 "nbformat": 4,
 "nbformat_minor": 4
}
